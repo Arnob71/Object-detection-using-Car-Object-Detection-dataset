{
 "cells": [
  {
   "cell_type": "code",
   "execution_count": null,
   "metadata": {
    "colab": {
     "base_uri": "https://localhost:8080/"
    },
    "executionInfo": {
     "elapsed": 11,
     "status": "ok",
     "timestamp": 1748431825099,
     "user": {
      "displayName": "Arnob Laskar",
      "userId": "07506032724742570570"
     },
     "user_tz": -360
    },
    "id": "Jw7QYZRxmkNZ",
    "outputId": "eea9fc72-1fa1-40f5-eb26-ee43bd0a08ea"
   },
   "outputs": [
    {
     "name": "stdout",
     "output_type": "stream",
     "text": [
      "cuda\n"
     ]
    }
   ],
   "source": [
    "import os\n",
    "import pandas as pd\n",
    "import torch\n",
    "import numpy as np\n",
    "import math\n",
    "import torchvision\n",
    "from collections import defaultdict\n",
    "from torchvision import models\n",
    "from torchvision.ops import box_iou\n",
    "from torchvision.io import read_image\n",
    "from torchvision.transforms import v2\n",
    "from torchmetrics.detection.mean_ap import MeanAveragePrecision\n",
    "import matplotlib.patches as patches\n",
    "from torch.utils.data import Dataset\n",
    "from torch.utils.data import DataLoader\n",
    "import matplotlib.pyplot as plt\n",
    "import ipywidgets as widgets\n",
    "from IPython.display import clear_output, display\n",
    "device = torch.device('cuda' if torch.cuda.is_available() else 'cpu')\n",
    "print(device)"
   ]
  },
  {
   "cell_type": "code",
   "execution_count": null,
   "metadata": {
    "id": "rSLXjBVJQr3D"
   },
   "outputs": [],
   "source": [
    "class customDataset(Dataset):\n",
    "    def __init__(self, dataFilePath, csvFilePath, mode = None, splitPercent = None, transform = None):\n",
    "      self.dataFilePath = dataFilePath\n",
    "      self.mode = mode\n",
    "      self.splitPercent = splitPercent\n",
    "      self.transform = transform\n",
    "      self.csv = pd.read_csv(csvFilePath)\n",
    "      self.imgDictionary = (\n",
    "        self.csv.groupby('image')\n",
    "        .apply(lambda x: x[['xmin','ymin','xmax','ymax']].values.tolist())\n",
    "        .to_dict()\n",
    "      )\n",
    "      self.dictionaryKeys = list(self.imgDictionary.keys())\n",
    "      self.percentToNum = math.floor(len(self.dictionaryKeys)*(self.splitPercent/100))\n",
    "      if self.mode == 'Train':\n",
    "        self.dictionaryKeys = self.dictionaryKeys[:len(self.dictionaryKeys)-self.percentToNum]\n",
    "      elif self.mode == 'Test':\n",
    "        self.dictionaryKeys = self.dictionaryKeys[-self.percentToNum:]\n",
    "      else:\n",
    "        print(\"Invalid Mode\")\n",
    "\n",
    "    def __len__(self):\n",
    "        return len(self.dictionaryKeys)\n",
    "\n",
    "    def __getitem__(self,idx):\n",
    "        self.idxKey = self.dictionaryKeys[idx]\n",
    "        self.imgPath = os.path.join(self.dataFilePath,self.idxKey)\n",
    "        image = read_image(self.imgPath)\n",
    "        boxes = self.imgDictionary[self.idxKey]\n",
    "        boxes = torch.tensor(boxes)\n",
    "        boxes[:,(0,2)] *= 512/image.shape[2]\n",
    "        boxes[:,(1,3)] *= 512/image.shape[1]\n",
    "        labels = torch.ones(len(self.imgDictionary[self.idxKey]), dtype = torch.int64)\n",
    "        target = {\"boxes\":boxes, \"labels\":labels}\n",
    "        if self.transform is not None:\n",
    "          image = self.transform(image)\n",
    "        return image, target\n",
    "\n",
    "imgTransforms = v2.Compose([\n",
    "    v2.Resize((512,512)),\n",
    "    v2.ToImage(),\n",
    "    v2.ToDtype(torch.float32)\n",
    "])"
   ]
  },
  {
   "cell_type": "code",
   "execution_count": null,
   "metadata": {
    "id": "Zwxu3VlDv5jk"
   },
   "outputs": [],
   "source": [
    "def collateFunction(data):\n",
    "  return data"
   ]
  },
  {
   "cell_type": "code",
   "execution_count": null,
   "metadata": {
    "colab": {
     "base_uri": "https://localhost:8080/"
    },
    "executionInfo": {
     "elapsed": 1659,
     "status": "ok",
     "timestamp": 1748431576589,
     "user": {
      "displayName": "Arnob Laskar",
      "userId": "07506032724742570570"
     },
     "user_tz": -360
    },
    "id": "jNzzh3FEldF8",
    "outputId": "ae4c3175-2bb6-4df8-8cdb-9e30010b7b42"
   },
   "outputs": [
    {
     "name": "stderr",
     "output_type": "stream",
     "text": [
      "<ipython-input-3-44e8e061f5f7>:10: DeprecationWarning: DataFrameGroupBy.apply operated on the grouping columns. This behavior is deprecated, and in a future version of pandas the grouping columns will be excluded from the operation. Either pass `include_groups=False` to exclude the groupings or explicitly select the grouping columns after groupby to silence this warning.\n",
      "  .apply(lambda x: x[['xmin','ymin','xmax','ymax']].values.tolist())\n",
      "<ipython-input-3-44e8e061f5f7>:10: DeprecationWarning: DataFrameGroupBy.apply operated on the grouping columns. This behavior is deprecated, and in a future version of pandas the grouping columns will be excluded from the operation. Either pass `include_groups=False` to exclude the groupings or explicitly select the grouping columns after groupby to silence this warning.\n",
      "  .apply(lambda x: x[['xmin','ymin','xmax','ymax']].values.tolist())\n"
     ]
    }
   ],
   "source": [
    "trainData = customDataset('/content/drive/MyDrive/Datasets/Car Object Detection/data/training_images','/content/drive/MyDrive/Datasets/Car Object Detection/data/train_solution_bounding_boxes (1).csv', mode = 'Train', splitPercent = 10, transform = imgTransforms)\n",
    "trainDataloader = DataLoader(trainData, batch_size = 4, collate_fn = collateFunction)\n",
    "\n",
    "testData = customDataset('/content/drive/MyDrive/Datasets/Car Object Detection/data/training_images','/content/drive/MyDrive/Datasets/Car Object Detection/data/train_solution_bounding_boxes (1).csv', mode = 'Test', splitPercent = 10, transform = imgTransforms)\n",
    "testDataloader = DataLoader(trainData, batch_size = 4, collate_fn = collateFunction)"
   ]
  },
  {
   "cell_type": "code",
   "execution_count": null,
   "metadata": {
    "colab": {
     "base_uri": "https://localhost:8080/"
    },
    "executionInfo": {
     "elapsed": 2136,
     "status": "ok",
     "timestamp": 1748431581289,
     "user": {
      "displayName": "Arnob Laskar",
      "userId": "07506032724742570570"
     },
     "user_tz": -360
    },
    "id": "eMveYBzxFcLY",
    "outputId": "0073b0fd-6430-4d9b-ef33-ac4c036d7e01"
   },
   "outputs": [
    {
     "name": "stderr",
     "output_type": "stream",
     "text": [
      "/usr/local/lib/python3.11/dist-packages/torchvision/models/_utils.py:208: UserWarning: The parameter 'pretrained' is deprecated since 0.13 and may be removed in the future, please use 'weights' instead.\n",
      "  warnings.warn(\n",
      "/usr/local/lib/python3.11/dist-packages/torchvision/models/_utils.py:223: UserWarning: Arguments other than a weight enum or `None` for 'weights' are deprecated since 0.13 and may be removed in the future. The current behavior is equivalent to passing `weights=FasterRCNN_ResNet50_FPN_Weights.COCO_V1`. You can also use `weights=FasterRCNN_ResNet50_FPN_Weights.DEFAULT` to get the most up-to-date weights.\n",
      "  warnings.warn(msg)\n",
      "Downloading: \"https://download.pytorch.org/models/fasterrcnn_resnet50_fpn_coco-258fb6c6.pth\" to /root/.cache/torch/hub/checkpoints/fasterrcnn_resnet50_fpn_coco-258fb6c6.pth\n",
      "100%|██████████| 160M/160M [00:00<00:00, 172MB/s]\n"
     ]
    }
   ],
   "source": [
    "model = models.detection.fasterrcnn_resnet50_fpn(pretrained = True)\n",
    "numOfClasses = 2\n",
    "inFeatures = model.roi_heads.box_predictor.cls_score.in_features\n",
    "model.roi_heads.box_predictor = models.detection.faster_rcnn.FastRCNNPredictor(inFeatures, numOfClasses)\n",
    "# model.load_state_dict(torch.load('/content/drive/MyDrive/Colab Notebooks/frcnn_weights.pth', map_location=torch.device('cpu' if torch.cuda.is_available() is False else 'cuda:0')))\n",
    "model = model.to(device)\n",
    "optimizer = torch.optim.Adam(model.parameters(),0.0001)"
   ]
  },
  {
   "cell_type": "code",
   "execution_count": null,
   "metadata": {
    "id": "ckOxhGOnkUYS"
   },
   "outputs": [],
   "source": [
    "def meanIoU(predBoxes, predLabels, predScores, gtBoxes, gtLabels, numOfClasses, threshold = 0.5):\n",
    "\n",
    "  iousByClass = []\n",
    "  for i in range(numOfClasses):\n",
    "    gtClsMask = gtLabels == i\n",
    "    predClsMask = predLabels == i\n",
    "\n",
    "    gtClsBoxes = gtBoxes[gtClsMask]\n",
    "    predClsBoxes = predBoxes[predClsMask]\n",
    "\n",
    "    if len(gtClsBoxes) == 0 or len(predClsBoxes) == 0:\n",
    "      continue\n",
    "\n",
    "    ious = box_iou(gtClsBoxes, predClsBoxes)\n",
    "\n",
    "    maxIouPerGtBox = ious.max(dim=1).values\n",
    "    clsIou = maxIouPerGtBox.mean()\n",
    "\n",
    "    iousByClass.append(clsIou)\n",
    "  if len(iousByClass) == 0:\n",
    "    return 0.0\n",
    "  return sum(iousByClass)/len(iousByClass)"
   ]
  },
  {
   "cell_type": "code",
   "execution_count": null,
   "metadata": {
    "id": "TUEUuVbhfP4q"
   },
   "outputs": [],
   "source": [
    "def test(dataloader, model, numOfClasses, iou_threshold):\n",
    "  model.eval()\n",
    "  metric = MeanAveragePrecision()\n",
    "  size = len(dataloader.dataset)\n",
    "  batchSize = len(dataloader)\n",
    "\n",
    "  imageList = []\n",
    "  groundTruthList = []\n",
    "  ious = []\n",
    "  for data in dataloader:\n",
    "    for dt in data:\n",
    "      imageList.append(dt[0].to(device))\n",
    "      groundTruthList.append({'boxes' : dt[1]['boxes'].to(device), 'labels' : dt[1]['labels'].to(device)})\n",
    "    break\n",
    "  with torch.no_grad():\n",
    "    preds = model(imageList)\n",
    "\n",
    "  for i in range(len(preds)):\n",
    "    iou = meanIoU(preds[i]['boxes'], preds[i]['labels'], preds[i]['scores'], groundTruthList[i]['boxes'], groundTruthList[i]['labels'], numOfClasses, threshold = iou_threshold)\n",
    "    ious.append(iou)\n",
    "\n",
    "  mIoU = sum(ious)/len(ious)\n",
    "  metric.update(preds, groundTruthList)\n",
    "  map = metric.compute()\n",
    "  return map['map'], mIoU\n",
    "  # print(f\"mAP50-95: {map} mIoU: {}\")"
   ]
  },
  {
   "cell_type": "code",
   "execution_count": null,
   "metadata": {
    "id": "FtM4qlM-hCwa"
   },
   "outputs": [],
   "source": [
    "def plotGraph(numOfEpochs, epochs, maps, mious):\n",
    "  clear_output(wait=True)\n",
    "  plt.figure(figsize = (7,5))\n",
    "\n",
    "  plt.plot(epochs, maps, label = 'mAP', color = 'red')\n",
    "  plt.plot(epochs, mious, label = 'mIoU', color = 'green')\n",
    "  plt.xlim(1,numOfEpochs)\n",
    "  plt.ylim(0,1)\n",
    "  plt.xlabel('Epocs')\n",
    "  plt.ylabel('mAP and mIoU')\n",
    "  plt.title('mAP and mIoU over epoch')\n",
    "  plt.legend()\n",
    "  plt.grid(True)\n",
    "  plt.show()"
   ]
  },
  {
   "cell_type": "code",
   "execution_count": null,
   "metadata": {
    "id": "WNNxJDN9yIKA"
   },
   "outputs": [],
   "source": [
    "def train(dataloader, model, optimizer):\n",
    "  model.train()\n",
    "  size = len(dataloader.dataset)\n",
    "  batchSize = len(dataloader)\n",
    "  numOfBatch = 0\n",
    "  divider = 10\n",
    "\n",
    "  for data in trainDataloader:\n",
    "    imgs = []\n",
    "    targets = []\n",
    "    for img, target in data:\n",
    "      imgs.append(img.to(device))\n",
    "      tarDict = {}\n",
    "      tarDict['boxes'] = target['boxes'].to(device)\n",
    "      tarDict['labels'] = target['labels'].to(device)\n",
    "      targets.append(tarDict)\n",
    "    pred = model(imgs, targets)\n",
    "    loss = sum(loss for loss in pred.values())\n",
    "    loss.backward()\n",
    "    optimizer.step()\n",
    "    optimizer.zero_grad()\n",
    "    numOfBatch += 1\n",
    "\n",
    "    if numOfBatch % divider == 0:\n",
    "        loss = loss.item(),\n",
    "        print(f\"loss: {loss}  [{numOfBatch}/{batchSize}]\")"
   ]
  },
  {
   "cell_type": "code",
   "execution_count": null,
   "metadata": {
    "colab": {
     "base_uri": "https://localhost:8080/",
     "height": 529,
     "referenced_widgets": [
      "ecb00a53c18348f0a18440d698b5920e",
      "813a65da5e1d4fa78ba8197267e38e92",
      "ecdb2ef46713484abba24e52d12434c6",
      "e725df1cfb614e258558bdd930b69365",
      "83759374637f4865b5696d65d11e0145",
      "7c6bcbd220714bc5ad439217a6de0641"
     ]
    },
    "executionInfo": {
     "elapsed": 1895704,
     "status": "ok",
     "timestamp": 1748433725150,
     "user": {
      "displayName": "Arnob Laskar",
      "userId": "07506032724742570570"
     },
     "user_tz": -360
    },
    "id": "elUbcqnrZz9k",
    "outputId": "f2b92cfb-c81c-4d11-f9d6-cba894e5aced"
   },
   "outputs": [
    {
     "data": {
      "application/vnd.jupyter.widget-view+json": {
       "model_id": "ecb00a53c18348f0a18440d698b5920e",
       "version_major": 2,
       "version_minor": 0
      },
      "text/plain": [
       "HBox(children=(Output(layout=Layout(height='512px', overflow='auto')), Output()), layout=Layout(justify_conten…"
      ]
     },
     "metadata": {},
     "output_type": "display_data"
    }
   ],
   "source": [
    "numOfEpochs = 30\n",
    "out1 = widgets.Output(layout = widgets.Layout(height = '512px', overflow = 'auto'))\n",
    "out2 = widgets.Output()\n",
    "box = widgets.HBox([out1, out2], layout = widgets.Layout(justify_content = 'space-between', gap = '5px'))\n",
    "display(box)\n",
    "\n",
    "epochs, maps, mious = [], [], []\n",
    "for i in range(numOfEpochs):\n",
    "  with out1:\n",
    "    print(f\"\\nEpoch {i+1}\\n-------------------------------\")\n",
    "    print(\"Training\\n\")\n",
    "    train(trainDataloader, model, optimizer)\n",
    "    print(\"\\nTesting\\n\")\n",
    "    mAP, mIoU = test(testDataloader, model, 2, 0.6)\n",
    "    print(f'mAP50-95:: {mAP}, mIoU: {mIoU}')\n",
    "  with out2:\n",
    "    maps.append(mAP.cpu())\n",
    "    mious.append(mIoU.cpu())\n",
    "    epochs.append(i+1)\n",
    "    plotGraph(numOfEpochs, epochs, maps, mious)"
   ]
  },
  {
   "cell_type": "code",
   "execution_count": null,
   "metadata": {
    "id": "5e8cY3Z5MUaD"
   },
   "outputs": [],
   "source": [
    "def filterByScore(pred, threshold, nms = True):\n",
    "  outputs = []\n",
    "\n",
    "  if nms:\n",
    "    nmsOutputs = []\n",
    "    for i in range(len(pred)):\n",
    "      boxes = pred[i]['boxes']\n",
    "      labels = pred[i]['labels']\n",
    "      scores = pred[i]['scores']\n",
    "\n",
    "      filter = pred[i]['scores'] > threshold\n",
    "      output = {\n",
    "        'boxes' : boxes[filter],\n",
    "        'labels' : labels[filter],\n",
    "        'scores' : scores[filter]\n",
    "        }\n",
    "      outputs.append(output)\n",
    "\n",
    "      nms = torchvision.ops.nms(output['boxes'],output['scores'], 0.7)\n",
    "      nmsOutput = {\n",
    "          'boxes' : boxes[nms],\n",
    "          'labels' : labels[nms],\n",
    "          'scores' : scores[nms]\n",
    "      }\n",
    "      nmsOutputs.append(nmsOutput)\n",
    "    return nmsOutputs\n",
    "  else:\n",
    "    for i in range(len(pred)):\n",
    "      boxes = pred[i]['boxes']\n",
    "      labels = pred[i]['labels']\n",
    "      scores = pred[i]['scores']\n",
    "\n",
    "      filter = pred[i]['scores'] > threshold\n",
    "      output = {\n",
    "        'boxes' : boxes[filter],\n",
    "        'labels' : labels[filter],\n",
    "        'scores' : scores[filter]\n",
    "        }\n",
    "      outputs.append(output)\n",
    "      return outputs"
   ]
  },
  {
   "cell_type": "code",
   "execution_count": null,
   "metadata": {
    "id": "tSoT44ZHbBDE"
   },
   "outputs": [],
   "source": [
    "def plotBoxes(image, pred, classNames):\n",
    "  image = image.to(torch.uint8)\n",
    "  image = image.permute(1,2,0)\n",
    "  image = image.cpu()\n",
    "\n",
    "  boxes = pred['boxes'].cpu().detach()\n",
    "  boxes[:,(0,2)] *= image.shape[1]/512\n",
    "  boxes[:,(1,3)] *= image.shape[0]/512\n",
    "  labels = pred['labels'].cpu().detach()\n",
    "  scores = pred['scores'].cpu().detach()\n",
    "\n",
    "  fig, ax = plt.subplots(1, figsize=(12, 8))\n",
    "  ax.imshow(image)\n",
    "  ax.set_xlim([0, image.shape[1]])\n",
    "  ax.set_ylim([image.shape[0], 0])\n",
    "\n",
    "  for box, label, score in zip(boxes, labels, scores):\n",
    "    x1, y1, x2, y2 = box.tolist()\n",
    "    width, height = x2 - x1, y2 - y1\n",
    "\n",
    "    rect = patches.Rectangle((x1,y1), width, height, linewidth=2, edgecolor='r', facecolor='none')\n",
    "    ax.add_patch(rect)\n",
    "    className = classNames[label]\n",
    "    text = f'{className} : {score:.3f}'\n",
    "    ax.text(x1, y1-5, text, fontsize = 12, color = 'white', backgroundcolor = 'red')\n",
    "\n",
    "  ax.axis('off')\n",
    "  plt.show()"
   ]
  }
 ],
 "metadata": {
  "accelerator": "GPU",
  "colab": {
   "authorship_tag": "ABX9TyOTWFTTNp05JGSEU1ohxP+A",
   "gpuType": "T4",
   "mount_file_id": "1YouBgWIQkhN-42fwLIZHA-8rIDO31KHN",
   "provenance": []
  },
  "kernelspec": {
   "display_name": "Python 3",
   "name": "python3"
  },
  "language_info": {
   "name": "python"
  },
  "widgets": {
   "application/vnd.jupyter.widget-state+json": {
    "7c6bcbd220714bc5ad439217a6de0641": {
     "model_module": "@jupyter-widgets/base",
     "model_module_version": "1.2.0",
     "model_name": "LayoutModel",
     "state": {
      "_model_module": "@jupyter-widgets/base",
      "_model_module_version": "1.2.0",
      "_model_name": "LayoutModel",
      "_view_count": null,
      "_view_module": "@jupyter-widgets/base",
      "_view_module_version": "1.2.0",
      "_view_name": "LayoutView",
      "align_content": null,
      "align_items": null,
      "align_self": null,
      "border": null,
      "bottom": null,
      "display": null,
      "flex": null,
      "flex_flow": null,
      "grid_area": null,
      "grid_auto_columns": null,
      "grid_auto_flow": null,
      "grid_auto_rows": null,
      "grid_column": null,
      "grid_gap": null,
      "grid_row": null,
      "grid_template_areas": null,
      "grid_template_columns": null,
      "grid_template_rows": null,
      "height": null,
      "justify_content": null,
      "justify_items": null,
      "left": null,
      "margin": null,
      "max_height": null,
      "max_width": null,
      "min_height": null,
      "min_width": null,
      "object_fit": null,
      "object_position": null,
      "order": null,
      "overflow": null,
      "overflow_x": null,
      "overflow_y": null,
      "padding": null,
      "right": null,
      "top": null,
      "visibility": null,
      "width": null
     }
    },
    "813a65da5e1d4fa78ba8197267e38e92": {
     "model_module": "@jupyter-widgets/output",
     "model_module_version": "1.0.0",
     "model_name": "OutputModel",
     "state": {
      "_dom_classes": [],
      "_model_module": "@jupyter-widgets/output",
      "_model_module_version": "1.0.0",
      "_model_name": "OutputModel",
      "_view_count": null,
      "_view_module": "@jupyter-widgets/output",
      "_view_module_version": "1.0.0",
      "_view_name": "OutputView",
      "layout": "IPY_MODEL_83759374637f4865b5696d65d11e0145",
      "msg_id": "",
      "outputs": [
       {
        "name": "stdout",
        "output_type": "stream",
        "text": [
         "\n",
         "Epoch 1\n",
         "-------------------------------\n",
         "Training\n",
         "\n"
        ]
       },
       {
        "name": "stdout",
        "output_type": "stream",
        "text": [
         "loss: (3.196756362915039,)  [8/80]\n"
        ]
       },
       {
        "name": "stdout",
        "output_type": "stream",
        "text": [
         "loss: (13.32347583770752,)  [16/80]\n"
        ]
       },
       {
        "name": "stdout",
        "output_type": "stream",
        "text": [
         "loss: (1.8821192979812622,)  [24/80]\n"
        ]
       },
       {
        "name": "stdout",
        "output_type": "stream",
        "text": [
         "loss: (2.0530507564544678,)  [32/80]\n"
        ]
       },
       {
        "name": "stdout",
        "output_type": "stream",
        "text": [
         "loss: (0.7421379089355469,)  [40/80]\n"
        ]
       },
       {
        "name": "stdout",
        "output_type": "stream",
        "text": [
         "loss: (0.1721220165491104,)  [48/80]\n"
        ]
       },
       {
        "name": "stdout",
        "output_type": "stream",
        "text": [
         "loss: (0.3631799817085266,)  [56/80]\n"
        ]
       },
       {
        "name": "stdout",
        "output_type": "stream",
        "text": [
         "loss: (0.2754454016685486,)  [64/80]\n"
        ]
       },
       {
        "name": "stdout",
        "output_type": "stream",
        "text": [
         "loss: (0.3548019230365753,)  [72/80]\n"
        ]
       },
       {
        "name": "stdout",
        "output_type": "stream",
        "text": [
         "loss: (0.3630272150039673,)  [80/80]\n",
         "\n",
         "Testing\n",
         "\n"
        ]
       },
       {
        "name": "stdout",
        "output_type": "stream",
        "text": [
         "mAP50-95:: 0.16518151760101318, mIoU: 0.6443241238594055\n"
        ]
       },
       {
        "name": "stdout",
        "output_type": "stream",
        "text": [
         "\n",
         "Epoch 2\n",
         "-------------------------------\n",
         "Training\n",
         "\n"
        ]
       },
       {
        "name": "stdout",
        "output_type": "stream",
        "text": [
         "loss: (0.15305574238300323,)  [8/80]\n"
        ]
       },
       {
        "name": "stdout",
        "output_type": "stream",
        "text": [
         "loss: (0.4802917242050171,)  [16/80]\n"
        ]
       },
       {
        "name": "stdout",
        "output_type": "stream",
        "text": [
         "loss: (0.21901412308216095,)  [24/80]\n"
        ]
       },
       {
        "name": "stdout",
        "output_type": "stream",
        "text": [
         "loss: (0.38307639956474304,)  [32/80]\n"
        ]
       },
       {
        "name": "stdout",
        "output_type": "stream",
        "text": [
         "loss: (0.5111616849899292,)  [40/80]\n"
        ]
       },
       {
        "name": "stdout",
        "output_type": "stream",
        "text": [
         "loss: (0.13141953945159912,)  [48/80]\n"
        ]
       },
       {
        "name": "stdout",
        "output_type": "stream",
        "text": [
         "loss: (0.28813228011131287,)  [56/80]\n"
        ]
       },
       {
        "name": "stdout",
        "output_type": "stream",
        "text": [
         "loss: (0.21854817867279053,)  [64/80]\n"
        ]
       },
       {
        "name": "stdout",
        "output_type": "stream",
        "text": [
         "loss: (0.2682895362377167,)  [72/80]\n"
        ]
       },
       {
        "name": "stdout",
        "output_type": "stream",
        "text": [
         "loss: (0.27656733989715576,)  [80/80]\n",
         "\n",
         "Testing\n",
         "\n"
        ]
       },
       {
        "name": "stdout",
        "output_type": "stream",
        "text": [
         "mAP50-95:: 0.4445544481277466, mIoU: 0.7211183905601501\n"
        ]
       },
       {
        "name": "stdout",
        "output_type": "stream",
        "text": [
         "\n",
         "Epoch 3\n",
         "-------------------------------\n",
         "Training\n",
         "\n"
        ]
       },
       {
        "name": "stdout",
        "output_type": "stream",
        "text": [
         "loss: (0.10880543291568756,)  [8/80]\n"
        ]
       },
       {
        "name": "stdout",
        "output_type": "stream",
        "text": [
         "loss: (0.39465025067329407,)  [16/80]\n"
        ]
       },
       {
        "name": "stdout",
        "output_type": "stream",
        "text": [
         "loss: (0.2454402595758438,)  [24/80]\n"
        ]
       },
       {
        "name": "stdout",
        "output_type": "stream",
        "text": [
         "loss: (0.3428107500076294,)  [32/80]\n"
        ]
       },
       {
        "name": "stdout",
        "output_type": "stream",
        "text": [
         "loss: (0.4410017132759094,)  [40/80]\n"
        ]
       },
       {
        "name": "stdout",
        "output_type": "stream",
        "text": [
         "loss: (0.135676771402359,)  [48/80]\n"
        ]
       },
       {
        "name": "stdout",
        "output_type": "stream",
        "text": [
         "loss: (0.219416543841362,)  [56/80]\n"
        ]
       },
       {
        "name": "stdout",
        "output_type": "stream",
        "text": [
         "loss: (0.15521079301834106,)  [64/80]\n"
        ]
       },
       {
        "name": "stdout",
        "output_type": "stream",
        "text": [
         "loss: (0.2452731728553772,)  [72/80]\n"
        ]
       },
       {
        "name": "stdout",
        "output_type": "stream",
        "text": [
         "loss: (0.19739346206188202,)  [80/80]\n",
         "\n",
         "Testing\n",
         "\n"
        ]
       },
       {
        "name": "stdout",
        "output_type": "stream",
        "text": [
         "mAP50-95:: 0.5886138677597046, mIoU: 0.7750085592269897\n"
        ]
       },
       {
        "name": "stdout",
        "output_type": "stream",
        "text": [
         "\n",
         "Epoch 4\n",
         "-------------------------------\n",
         "Training\n",
         "\n"
        ]
       },
       {
        "name": "stdout",
        "output_type": "stream",
        "text": [
         "loss: (0.1049913689494133,)  [8/80]\n"
        ]
       },
       {
        "name": "stdout",
        "output_type": "stream",
        "text": [
         "loss: (0.3476460576057434,)  [16/80]\n"
        ]
       },
       {
        "name": "stdout",
        "output_type": "stream",
        "text": [
         "loss: (0.18054191768169403,)  [24/80]\n"
        ]
       },
       {
        "name": "stdout",
        "output_type": "stream",
        "text": [
         "loss: (0.3240050673484802,)  [32/80]\n"
        ]
       },
       {
        "name": "stdout",
        "output_type": "stream",
        "text": [
         "loss: (0.47874414920806885,)  [40/80]\n"
        ]
       },
       {
        "name": "stdout",
        "output_type": "stream",
        "text": [
         "loss: (0.12973769009113312,)  [48/80]\n"
        ]
       },
       {
        "name": "stdout",
        "output_type": "stream",
        "text": [
         "loss: (0.22985371947288513,)  [56/80]\n"
        ]
       },
       {
        "name": "stdout",
        "output_type": "stream",
        "text": [
         "loss: (0.09462807327508926,)  [64/80]\n"
        ]
       },
       {
        "name": "stdout",
        "output_type": "stream",
        "text": [
         "loss: (0.22938023507595062,)  [72/80]\n"
        ]
       },
       {
        "name": "stdout",
        "output_type": "stream",
        "text": [
         "loss: (0.19745612144470215,)  [80/80]\n",
         "\n",
         "Testing\n",
         "\n"
        ]
       },
       {
        "name": "stdout",
        "output_type": "stream",
        "text": [
         "mAP50-95:: 0.5881187915802002, mIoU: 0.7591272592544556\n"
        ]
       },
       {
        "name": "stdout",
        "output_type": "stream",
        "text": [
         "\n",
         "Epoch 5\n",
         "-------------------------------\n",
         "Training\n",
         "\n"
        ]
       },
       {
        "name": "stdout",
        "output_type": "stream",
        "text": [
         "loss: (0.1436687856912613,)  [8/80]\n"
        ]
       },
       {
        "name": "stdout",
        "output_type": "stream",
        "text": [
         "loss: (0.32474079728126526,)  [16/80]\n"
        ]
       },
       {
        "name": "stdout",
        "output_type": "stream",
        "text": [
         "loss: (0.16591200232505798,)  [24/80]\n"
        ]
       },
       {
        "name": "stdout",
        "output_type": "stream",
        "text": [
         "loss: (0.2908799648284912,)  [32/80]\n"
        ]
       },
       {
        "name": "stdout",
        "output_type": "stream",
        "text": [
         "loss: (0.4531649053096771,)  [40/80]\n"
        ]
       },
       {
        "name": "stdout",
        "output_type": "stream",
        "text": [
         "loss: (0.1308349221944809,)  [48/80]\n"
        ]
       },
       {
        "name": "stdout",
        "output_type": "stream",
        "text": [
         "loss: (0.15919308364391327,)  [56/80]\n"
        ]
       },
       {
        "name": "stdout",
        "output_type": "stream",
        "text": [
         "loss: (0.144422709941864,)  [64/80]\n"
        ]
       },
       {
        "name": "stdout",
        "output_type": "stream",
        "text": [
         "loss: (0.21004162728786469,)  [72/80]\n"
        ]
       },
       {
        "name": "stdout",
        "output_type": "stream",
        "text": [
         "loss: (0.16220957040786743,)  [80/80]\n",
         "\n",
         "Testing\n",
         "\n"
        ]
       },
       {
        "name": "stdout",
        "output_type": "stream",
        "text": [
         "mAP50-95:: 0.571039617061615, mIoU: 0.7655434608459473\n"
        ]
       },
       {
        "name": "stdout",
        "output_type": "stream",
        "text": [
         "\n",
         "Epoch 6\n",
         "-------------------------------\n",
         "Training\n",
         "\n"
        ]
       },
       {
        "name": "stdout",
        "output_type": "stream",
        "text": [
         "loss: (0.12120925635099411,)  [8/80]\n"
        ]
       },
       {
        "name": "stdout",
        "output_type": "stream",
        "text": [
         "loss: (0.289761483669281,)  [16/80]\n"
        ]
       },
       {
        "name": "stdout",
        "output_type": "stream",
        "text": [
         "loss: (0.11471224576234818,)  [24/80]\n"
        ]
       },
       {
        "name": "stdout",
        "output_type": "stream",
        "text": [
         "loss: (0.22094495594501495,)  [32/80]\n"
        ]
       },
       {
        "name": "stdout",
        "output_type": "stream",
        "text": [
         "loss: (0.4590695798397064,)  [40/80]\n"
        ]
       },
       {
        "name": "stdout",
        "output_type": "stream",
        "text": [
         "loss: (0.09208530187606812,)  [48/80]\n"
        ]
       },
       {
        "name": "stdout",
        "output_type": "stream",
        "text": [
         "loss: (0.13669459521770477,)  [56/80]\n"
        ]
       },
       {
        "name": "stdout",
        "output_type": "stream",
        "text": [
         "loss: (0.1496957540512085,)  [64/80]\n"
        ]
       },
       {
        "name": "stdout",
        "output_type": "stream",
        "text": [
         "loss: (0.18534936010837555,)  [72/80]\n"
        ]
       },
       {
        "name": "stdout",
        "output_type": "stream",
        "text": [
         "loss: (0.16077876091003418,)  [80/80]\n",
         "\n",
         "Testing\n",
         "\n"
        ]
       },
       {
        "name": "stdout",
        "output_type": "stream",
        "text": [
         "mAP50-95:: 0.5772277116775513, mIoU: 0.7623962163925171\n"
        ]
       },
       {
        "name": "stdout",
        "output_type": "stream",
        "text": [
         "\n",
         "Epoch 7\n",
         "-------------------------------\n",
         "Training\n",
         "\n"
        ]
       },
       {
        "name": "stdout",
        "output_type": "stream",
        "text": [
         "loss: (0.10749134421348572,)  [8/80]\n"
        ]
       },
       {
        "name": "stdout",
        "output_type": "stream",
        "text": [
         "loss: (0.2909994125366211,)  [16/80]\n"
        ]
       },
       {
        "name": "stdout",
        "output_type": "stream",
        "text": [
         "loss: (0.13256625831127167,)  [24/80]\n"
        ]
       },
       {
        "name": "stdout",
        "output_type": "stream",
        "text": [
         "loss: (0.22535859048366547,)  [32/80]\n"
        ]
       },
       {
        "name": "stdout",
        "output_type": "stream",
        "text": [
         "loss: (0.41850507259368896,)  [40/80]\n"
        ]
       },
       {
        "name": "stdout",
        "output_type": "stream",
        "text": [
         "loss: (0.098584845662117,)  [48/80]\n"
        ]
       },
       {
        "name": "stdout",
        "output_type": "stream",
        "text": [
         "loss: (0.11401362717151642,)  [56/80]\n"
        ]
       },
       {
        "name": "stdout",
        "output_type": "stream",
        "text": [
         "loss: (0.11881137639284134,)  [64/80]\n"
        ]
       },
       {
        "name": "stdout",
        "output_type": "stream",
        "text": [
         "loss: (0.16443894803524017,)  [72/80]\n"
        ]
       },
       {
        "name": "stdout",
        "output_type": "stream",
        "text": [
         "loss: (0.12638108432292938,)  [80/80]\n",
         "\n",
         "Testing\n",
         "\n"
        ]
       },
       {
        "name": "stdout",
        "output_type": "stream",
        "text": [
         "mAP50-95:: 0.5891088843345642, mIoU: 0.7667751312255859\n"
        ]
       },
       {
        "name": "stdout",
        "output_type": "stream",
        "text": [
         "\n",
         "Epoch 8\n",
         "-------------------------------\n",
         "Training\n",
         "\n"
        ]
       },
       {
        "name": "stdout",
        "output_type": "stream",
        "text": [
         "loss: (0.08830000460147858,)  [8/80]\n"
        ]
       },
       {
        "name": "stdout",
        "output_type": "stream",
        "text": [
         "loss: (0.28400731086730957,)  [16/80]\n"
        ]
       },
       {
        "name": "stdout",
        "output_type": "stream",
        "text": [
         "loss: (0.09660445153713226,)  [24/80]\n"
        ]
       },
       {
        "name": "stdout",
        "output_type": "stream",
        "text": [
         "loss: (0.19653865694999695,)  [32/80]\n"
        ]
       },
       {
        "name": "stdout",
        "output_type": "stream",
        "text": [
         "loss: (0.38414105772972107,)  [40/80]\n"
        ]
       },
       {
        "name": "stdout",
        "output_type": "stream",
        "text": [
         "loss: (0.07265549153089523,)  [48/80]\n"
        ]
       },
       {
        "name": "stdout",
        "output_type": "stream",
        "text": [
         "loss: (0.11786700040102005,)  [56/80]\n"
        ]
       },
       {
        "name": "stdout",
        "output_type": "stream",
        "text": [
         "loss: (0.10391029715538025,)  [64/80]\n"
        ]
       },
       {
        "name": "stdout",
        "output_type": "stream",
        "text": [
         "loss: (0.1426820456981659,)  [72/80]\n"
        ]
       },
       {
        "name": "stdout",
        "output_type": "stream",
        "text": [
         "loss: (0.12683682143688202,)  [80/80]\n",
         "\n",
         "Testing\n",
         "\n"
        ]
       },
       {
        "name": "stdout",
        "output_type": "stream",
        "text": [
         "mAP50-95:: 0.5638613700866699, mIoU: 0.7612539529800415\n"
        ]
       },
       {
        "name": "stdout",
        "output_type": "stream",
        "text": [
         "\n",
         "Epoch 9\n",
         "-------------------------------\n",
         "Training\n",
         "\n"
        ]
       },
       {
        "name": "stdout",
        "output_type": "stream",
        "text": [
         "loss: (0.11339590698480606,)  [8/80]\n"
        ]
       },
       {
        "name": "stdout",
        "output_type": "stream",
        "text": [
         "loss: (0.2970082461833954,)  [16/80]\n"
        ]
       },
       {
        "name": "stdout",
        "output_type": "stream",
        "text": [
         "loss: (0.07751478254795074,)  [24/80]\n"
        ]
       },
       {
        "name": "stdout",
        "output_type": "stream",
        "text": [
         "loss: (0.2791503667831421,)  [32/80]\n"
        ]
       },
       {
        "name": "stdout",
        "output_type": "stream",
        "text": [
         "loss: (0.4086832106113434,)  [40/80]\n"
        ]
       },
       {
        "name": "stdout",
        "output_type": "stream",
        "text": [
         "loss: (0.07864796370267868,)  [48/80]\n"
        ]
       },
       {
        "name": "stdout",
        "output_type": "stream",
        "text": [
         "loss: (0.13902653753757477,)  [56/80]\n"
        ]
       },
       {
        "name": "stdout",
        "output_type": "stream",
        "text": [
         "loss: (0.0838460773229599,)  [64/80]\n"
        ]
       },
       {
        "name": "stdout",
        "output_type": "stream",
        "text": [
         "loss: (0.12257470935583115,)  [72/80]\n"
        ]
       },
       {
        "name": "stdout",
        "output_type": "stream",
        "text": [
         "loss: (0.13469702005386353,)  [80/80]\n",
         "\n",
         "Testing\n",
         "\n"
        ]
       },
       {
        "name": "stdout",
        "output_type": "stream",
        "text": [
         "mAP50-95:: 0.6019802093505859, mIoU: 0.7725794315338135\n"
        ]
       },
       {
        "name": "stdout",
        "output_type": "stream",
        "text": [
         "\n",
         "Epoch 10\n",
         "-------------------------------\n",
         "Training\n",
         "\n"
        ]
       },
       {
        "name": "stdout",
        "output_type": "stream",
        "text": [
         "loss: (0.08550608158111572,)  [8/80]\n"
        ]
       },
       {
        "name": "stdout",
        "output_type": "stream",
        "text": [
         "loss: (0.19381849467754364,)  [16/80]\n"
        ]
       },
       {
        "name": "stdout",
        "output_type": "stream",
        "text": [
         "loss: (0.07465669512748718,)  [24/80]\n"
        ]
       },
       {
        "name": "stdout",
        "output_type": "stream",
        "text": [
         "loss: (0.22929859161376953,)  [32/80]\n"
        ]
       },
       {
        "name": "stdout",
        "output_type": "stream",
        "text": [
         "loss: (0.33085954189300537,)  [40/80]\n"
        ]
       },
       {
        "name": "stdout",
        "output_type": "stream",
        "text": [
         "loss: (0.06248553842306137,)  [48/80]\n"
        ]
       },
       {
        "name": "stdout",
        "output_type": "stream",
        "text": [
         "loss: (0.1005866602063179,)  [56/80]\n"
        ]
       },
       {
        "name": "stdout",
        "output_type": "stream",
        "text": [
         "loss: (0.10226287692785263,)  [64/80]\n"
        ]
       },
       {
        "name": "stdout",
        "output_type": "stream",
        "text": [
         "loss: (0.174679696559906,)  [72/80]\n"
        ]
       },
       {
        "name": "stdout",
        "output_type": "stream",
        "text": [
         "loss: (0.1774533987045288,)  [80/80]\n",
         "\n",
         "Testing\n",
         "\n"
        ]
       },
       {
        "name": "stdout",
        "output_type": "stream",
        "text": [
         "mAP50-95:: 0.4821782112121582, mIoU: 0.7650507688522339\n"
        ]
       },
       {
        "name": "stdout",
        "output_type": "stream",
        "text": [
         "\n",
         "Epoch 11\n",
         "-------------------------------\n",
         "Training\n",
         "\n"
        ]
       },
       {
        "name": "stdout",
        "output_type": "stream",
        "text": [
         "loss: (0.07337784767150879,)  [8/80]\n"
        ]
       },
       {
        "name": "stdout",
        "output_type": "stream",
        "text": [
         "loss: (0.1840602159500122,)  [16/80]\n"
        ]
       },
       {
        "name": "stdout",
        "output_type": "stream",
        "text": [
         "loss: (0.07910412549972534,)  [24/80]\n"
        ]
       },
       {
        "name": "stdout",
        "output_type": "stream",
        "text": [
         "loss: (0.18854039907455444,)  [32/80]\n"
        ]
       },
       {
        "name": "stdout",
        "output_type": "stream",
        "text": [
         "loss: (0.2942701280117035,)  [40/80]\n"
        ]
       },
       {
        "name": "stdout",
        "output_type": "stream",
        "text": [
         "loss: (0.08257608860731125,)  [48/80]\n"
        ]
       },
       {
        "name": "stdout",
        "output_type": "stream",
        "text": [
         "loss: (0.08478932827711105,)  [56/80]\n"
        ]
       },
       {
        "name": "stdout",
        "output_type": "stream",
        "text": [
         "loss: (0.06580539792776108,)  [64/80]\n"
        ]
       },
       {
        "name": "stdout",
        "output_type": "stream",
        "text": [
         "loss: (0.12103826552629471,)  [72/80]\n"
        ]
       },
       {
        "name": "stdout",
        "output_type": "stream",
        "text": [
         "loss: (0.11114087700843811,)  [80/80]\n",
         "\n",
         "Testing\n",
         "\n"
        ]
       },
       {
        "name": "stdout",
        "output_type": "stream",
        "text": [
         "mAP50-95:: 0.5262376070022583, mIoU: 0.7888600826263428\n"
        ]
       },
       {
        "name": "stdout",
        "output_type": "stream",
        "text": [
         "\n",
         "Epoch 12\n",
         "-------------------------------\n",
         "Training\n",
         "\n"
        ]
       },
       {
        "name": "stdout",
        "output_type": "stream",
        "text": [
         "loss: (0.08077829331159592,)  [8/80]\n"
        ]
       },
       {
        "name": "stdout",
        "output_type": "stream",
        "text": [
         "loss: (0.2006198912858963,)  [16/80]\n"
        ]
       },
       {
        "name": "stdout",
        "output_type": "stream",
        "text": [
         "loss: (0.061403803527355194,)  [24/80]\n"
        ]
       },
       {
        "name": "stdout",
        "output_type": "stream",
        "text": [
         "loss: (0.2051384299993515,)  [32/80]\n"
        ]
       },
       {
        "name": "stdout",
        "output_type": "stream",
        "text": [
         "loss: (0.34632593393325806,)  [40/80]\n"
        ]
       },
       {
        "name": "stdout",
        "output_type": "stream",
        "text": [
         "loss: (0.07265283912420273,)  [48/80]\n"
        ]
       },
       {
        "name": "stdout",
        "output_type": "stream",
        "text": [
         "loss: (0.0945432111620903,)  [56/80]\n"
        ]
       },
       {
        "name": "stdout",
        "output_type": "stream",
        "text": [
         "loss: (0.11499354988336563,)  [64/80]\n"
        ]
       },
       {
        "name": "stdout",
        "output_type": "stream",
        "text": [
         "loss: (0.10466351360082626,)  [72/80]\n"
        ]
       },
       {
        "name": "stdout",
        "output_type": "stream",
        "text": [
         "loss: (0.12424410879611969,)  [80/80]\n",
         "\n",
         "Testing\n",
         "\n"
        ]
       },
       {
        "name": "stdout",
        "output_type": "stream",
        "text": [
         "mAP50-95:: 0.6509901285171509, mIoU: 0.835098147392273\n"
        ]
       },
       {
        "name": "stdout",
        "output_type": "stream",
        "text": [
         "\n",
         "Epoch 13\n",
         "-------------------------------\n",
         "Training\n",
         "\n"
        ]
       },
       {
        "name": "stdout",
        "output_type": "stream",
        "text": [
         "loss: (0.07301018387079239,)  [8/80]\n"
        ]
       },
       {
        "name": "stdout",
        "output_type": "stream",
        "text": [
         "loss: (0.17737680673599243,)  [16/80]\n"
        ]
       },
       {
        "name": "stdout",
        "output_type": "stream",
        "text": [
         "loss: (0.0737416073679924,)  [24/80]\n"
        ]
       },
       {
        "name": "stdout",
        "output_type": "stream",
        "text": [
         "loss: (0.16373418271541595,)  [32/80]\n"
        ]
       },
       {
        "name": "stdout",
        "output_type": "stream",
        "text": [
         "loss: (0.36726298928260803,)  [40/80]\n"
        ]
       },
       {
        "name": "stdout",
        "output_type": "stream",
        "text": [
         "loss: (0.08370419591665268,)  [48/80]\n"
        ]
       },
       {
        "name": "stdout",
        "output_type": "stream",
        "text": [
         "loss: (0.09141717851161957,)  [56/80]\n"
        ]
       },
       {
        "name": "stdout",
        "output_type": "stream",
        "text": [
         "loss: (0.075875423848629,)  [64/80]\n"
        ]
       },
       {
        "name": "stdout",
        "output_type": "stream",
        "text": [
         "loss: (0.1319633424282074,)  [72/80]\n"
        ]
       },
       {
        "name": "stdout",
        "output_type": "stream",
        "text": [
         "loss: (0.13008584082126617,)  [80/80]\n",
         "\n",
         "Testing\n",
         "\n"
        ]
       },
       {
        "name": "stdout",
        "output_type": "stream",
        "text": [
         "mAP50-95:: 0.5762376189231873, mIoU: 0.7600594162940979\n"
        ]
       },
       {
        "name": "stdout",
        "output_type": "stream",
        "text": [
         "\n",
         "Epoch 14\n",
         "-------------------------------\n",
         "Training\n",
         "\n"
        ]
       },
       {
        "name": "stdout",
        "output_type": "stream",
        "text": [
         "loss: (0.08649805188179016,)  [8/80]\n"
        ]
       },
       {
        "name": "stdout",
        "output_type": "stream",
        "text": [
         "loss: (0.208713561296463,)  [16/80]\n"
        ]
       },
       {
        "name": "stdout",
        "output_type": "stream",
        "text": [
         "loss: (0.06664891541004181,)  [24/80]\n"
        ]
       },
       {
        "name": "stdout",
        "output_type": "stream",
        "text": [
         "loss: (0.15110598504543304,)  [32/80]\n"
        ]
       },
       {
        "name": "stdout",
        "output_type": "stream",
        "text": [
         "loss: (0.2640473246574402,)  [40/80]\n"
        ]
       },
       {
        "name": "stdout",
        "output_type": "stream",
        "text": [
         "loss: (0.06673689931631088,)  [48/80]\n"
        ]
       },
       {
        "name": "stdout",
        "output_type": "stream",
        "text": [
         "loss: (0.08352839201688766,)  [56/80]\n"
        ]
       },
       {
        "name": "stdout",
        "output_type": "stream",
        "text": [
         "loss: (0.06238647177815437,)  [64/80]\n"
        ]
       },
       {
        "name": "stdout",
        "output_type": "stream",
        "text": [
         "loss: (0.10103078931570053,)  [72/80]\n"
        ]
       },
       {
        "name": "stdout",
        "output_type": "stream",
        "text": [
         "loss: (0.11343706399202347,)  [80/80]\n",
         "\n",
         "Testing\n",
         "\n"
        ]
       },
       {
        "name": "stdout",
        "output_type": "stream",
        "text": [
         "mAP50-95:: 0.6009901165962219, mIoU: 0.7657528519630432\n"
        ]
       },
       {
        "name": "stdout",
        "output_type": "stream",
        "text": [
         "\n",
         "Epoch 15\n",
         "-------------------------------\n",
         "Training\n",
         "\n"
        ]
       },
       {
        "name": "stdout",
        "output_type": "stream",
        "text": [
         "loss: (0.06526266783475876,)  [8/80]\n"
        ]
       },
       {
        "name": "stdout",
        "output_type": "stream",
        "text": [
         "loss: (0.20110425353050232,)  [16/80]\n"
        ]
       },
       {
        "name": "stdout",
        "output_type": "stream",
        "text": [
         "loss: (0.08776034414768219,)  [24/80]\n"
        ]
       },
       {
        "name": "stdout",
        "output_type": "stream",
        "text": [
         "loss: (0.1411796361207962,)  [32/80]\n"
        ]
       },
       {
        "name": "stdout",
        "output_type": "stream",
        "text": [
         "loss: (0.2303038090467453,)  [40/80]\n"
        ]
       },
       {
        "name": "stdout",
        "output_type": "stream",
        "text": [
         "loss: (0.08867135643959045,)  [48/80]\n"
        ]
       },
       {
        "name": "stdout",
        "output_type": "stream",
        "text": [
         "loss: (0.07498804479837418,)  [56/80]\n"
        ]
       },
       {
        "name": "stdout",
        "output_type": "stream",
        "text": [
         "loss: (0.07891447097063065,)  [64/80]\n"
        ]
       },
       {
        "name": "stdout",
        "output_type": "stream",
        "text": [
         "loss: (0.09159580618143082,)  [72/80]\n"
        ]
       },
       {
        "name": "stdout",
        "output_type": "stream",
        "text": [
         "loss: (0.12635718286037445,)  [80/80]\n",
         "\n",
         "Testing\n",
         "\n"
        ]
       },
       {
        "name": "stdout",
        "output_type": "stream",
        "text": [
         "mAP50-95:: 0.5633663535118103, mIoU: 0.7599567174911499\n"
        ]
       },
       {
        "name": "stdout",
        "output_type": "stream",
        "text": [
         "\n",
         "Epoch 16\n",
         "-------------------------------\n",
         "Training\n",
         "\n"
        ]
       },
       {
        "name": "stdout",
        "output_type": "stream",
        "text": [
         "loss: (0.07710468769073486,)  [8/80]\n"
        ]
       },
       {
        "name": "stdout",
        "output_type": "stream",
        "text": [
         "loss: (0.19181451201438904,)  [16/80]\n"
        ]
       },
       {
        "name": "stdout",
        "output_type": "stream",
        "text": [
         "loss: (0.061570774763822556,)  [24/80]\n"
        ]
       },
       {
        "name": "stdout",
        "output_type": "stream",
        "text": [
         "loss: (0.17547793686389923,)  [32/80]\n"
        ]
       },
       {
        "name": "stdout",
        "output_type": "stream",
        "text": [
         "loss: (0.23226943612098694,)  [40/80]\n"
        ]
       },
       {
        "name": "stdout",
        "output_type": "stream",
        "text": [
         "loss: (0.07592467963695526,)  [48/80]\n"
        ]
       },
       {
        "name": "stdout",
        "output_type": "stream",
        "text": [
         "loss: (0.0712180808186531,)  [56/80]\n"
        ]
       },
       {
        "name": "stdout",
        "output_type": "stream",
        "text": [
         "loss: (0.10314511507749557,)  [64/80]\n"
        ]
       },
       {
        "name": "stdout",
        "output_type": "stream",
        "text": [
         "loss: (0.0946386381983757,)  [72/80]\n"
        ]
       },
       {
        "name": "stdout",
        "output_type": "stream",
        "text": [
         "loss: (0.09599149972200394,)  [80/80]\n",
         "\n",
         "Testing\n",
         "\n"
        ]
       },
       {
        "name": "stdout",
        "output_type": "stream",
        "text": [
         "mAP50-95:: 0.520049512386322, mIoU: 0.7624446153640747\n"
        ]
       },
       {
        "name": "stdout",
        "output_type": "stream",
        "text": [
         "\n",
         "Epoch 17\n",
         "-------------------------------\n",
         "Training\n",
         "\n"
        ]
       },
       {
        "name": "stdout",
        "output_type": "stream",
        "text": [
         "loss: (0.07964044064283371,)  [8/80]\n"
        ]
       },
       {
        "name": "stdout",
        "output_type": "stream",
        "text": [
         "loss: (0.19544517993927002,)  [16/80]\n"
        ]
       },
       {
        "name": "stdout",
        "output_type": "stream",
        "text": [
         "loss: (0.06374494731426239,)  [24/80]\n"
        ]
       },
       {
        "name": "stdout",
        "output_type": "stream",
        "text": [
         "loss: (0.13998331129550934,)  [32/80]\n"
        ]
       },
       {
        "name": "stdout",
        "output_type": "stream",
        "text": [
         "loss: (0.2101123332977295,)  [40/80]\n"
        ]
       },
       {
        "name": "stdout",
        "output_type": "stream",
        "text": [
         "loss: (0.05896245688199997,)  [48/80]\n"
        ]
       },
       {
        "name": "stdout",
        "output_type": "stream",
        "text": [
         "loss: (0.06903888285160065,)  [56/80]\n"
        ]
       },
       {
        "name": "stdout",
        "output_type": "stream",
        "text": [
         "loss: (0.05711493268609047,)  [64/80]\n"
        ]
       },
       {
        "name": "stdout",
        "output_type": "stream",
        "text": [
         "loss: (0.08738022297620773,)  [72/80]\n"
        ]
       },
       {
        "name": "stdout",
        "output_type": "stream",
        "text": [
         "loss: (0.11413522809743881,)  [80/80]\n",
         "\n",
         "Testing\n",
         "\n"
        ]
       },
       {
        "name": "stdout",
        "output_type": "stream",
        "text": [
         "mAP50-95:: 0.7324257493019104, mIoU: 0.8521046042442322\n"
        ]
       },
       {
        "name": "stdout",
        "output_type": "stream",
        "text": [
         "\n",
         "Epoch 18\n",
         "-------------------------------\n",
         "Training\n",
         "\n"
        ]
       },
       {
        "name": "stdout",
        "output_type": "stream",
        "text": [
         "loss: (0.08157863467931747,)  [8/80]\n"
        ]
       },
       {
        "name": "stdout",
        "output_type": "stream",
        "text": [
         "loss: (0.15760336816310883,)  [16/80]\n"
        ]
       },
       {
        "name": "stdout",
        "output_type": "stream",
        "text": [
         "loss: (0.05627010390162468,)  [24/80]\n"
        ]
       },
       {
        "name": "stdout",
        "output_type": "stream",
        "text": [
         "loss: (0.09100355952978134,)  [32/80]\n"
        ]
       },
       {
        "name": "stdout",
        "output_type": "stream",
        "text": [
         "loss: (0.19710029661655426,)  [40/80]\n"
        ]
       },
       {
        "name": "stdout",
        "output_type": "stream",
        "text": [
         "loss: (0.03769329935312271,)  [48/80]\n"
        ]
       },
       {
        "name": "stdout",
        "output_type": "stream",
        "text": [
         "loss: (0.08970325440168381,)  [56/80]\n"
        ]
       },
       {
        "name": "stdout",
        "output_type": "stream",
        "text": [
         "loss: (0.07208454608917236,)  [64/80]\n"
        ]
       },
       {
        "name": "stdout",
        "output_type": "stream",
        "text": [
         "loss: (0.07540712505578995,)  [72/80]\n"
        ]
       },
       {
        "name": "stdout",
        "output_type": "stream",
        "text": [
         "loss: (0.10793039947748184,)  [80/80]\n",
         "\n",
         "Testing\n",
         "\n"
        ]
       },
       {
        "name": "stdout",
        "output_type": "stream",
        "text": [
         "mAP50-95:: 0.7679867744445801, mIoU: 0.8531599640846252\n"
        ]
       },
       {
        "name": "stdout",
        "output_type": "stream",
        "text": [
         "\n",
         "Epoch 19\n",
         "-------------------------------\n",
         "Training\n",
         "\n"
        ]
       },
       {
        "name": "stdout",
        "output_type": "stream",
        "text": [
         "loss: (0.05582142248749733,)  [8/80]\n"
        ]
       },
       {
        "name": "stdout",
        "output_type": "stream",
        "text": [
         "loss: (0.11888282746076584,)  [16/80]\n"
        ]
       },
       {
        "name": "stdout",
        "output_type": "stream",
        "text": [
         "loss: (0.04771098494529724,)  [24/80]\n"
        ]
       },
       {
        "name": "stdout",
        "output_type": "stream",
        "text": [
         "loss: (0.10732419043779373,)  [32/80]\n"
        ]
       },
       {
        "name": "stdout",
        "output_type": "stream",
        "text": [
         "loss: (0.2360409051179886,)  [40/80]\n"
        ]
       },
       {
        "name": "stdout",
        "output_type": "stream",
        "text": [
         "loss: (0.06297039240598679,)  [48/80]\n"
        ]
       },
       {
        "name": "stdout",
        "output_type": "stream",
        "text": [
         "loss: (0.07490021735429764,)  [56/80]\n"
        ]
       },
       {
        "name": "stdout",
        "output_type": "stream",
        "text": [
         "loss: (0.07065416127443314,)  [64/80]\n"
        ]
       },
       {
        "name": "stdout",
        "output_type": "stream",
        "text": [
         "loss: (0.08092896640300751,)  [72/80]\n"
        ]
       },
       {
        "name": "stdout",
        "output_type": "stream",
        "text": [
         "loss: (0.08527463674545288,)  [80/80]\n",
         "\n",
         "Testing\n",
         "\n"
        ]
       },
       {
        "name": "stdout",
        "output_type": "stream",
        "text": [
         "mAP50-95:: 0.7844884395599365, mIoU: 0.8651111721992493\n"
        ]
       },
       {
        "name": "stdout",
        "output_type": "stream",
        "text": [
         "\n",
         "Epoch 20\n",
         "-------------------------------\n",
         "Training\n",
         "\n"
        ]
       },
       {
        "name": "stdout",
        "output_type": "stream",
        "text": [
         "loss: (0.051850516349077225,)  [8/80]\n"
        ]
       },
       {
        "name": "stdout",
        "output_type": "stream",
        "text": [
         "loss: (0.13006213307380676,)  [16/80]\n"
        ]
       },
       {
        "name": "stdout",
        "output_type": "stream",
        "text": [
         "loss: (0.05085442215204239,)  [24/80]\n"
        ]
       },
       {
        "name": "stdout",
        "output_type": "stream",
        "text": [
         "loss: (0.12316063046455383,)  [32/80]\n"
        ]
       },
       {
        "name": "stdout",
        "output_type": "stream",
        "text": [
         "loss: (0.210165873169899,)  [40/80]\n"
        ]
       },
       {
        "name": "stdout",
        "output_type": "stream",
        "text": [
         "loss: (0.05348912626504898,)  [48/80]\n"
        ]
       },
       {
        "name": "stdout",
        "output_type": "stream",
        "text": [
         "loss: (0.06180710718035698,)  [56/80]\n"
        ]
       },
       {
        "name": "stdout",
        "output_type": "stream",
        "text": [
         "loss: (0.05949542671442032,)  [64/80]\n"
        ]
       },
       {
        "name": "stdout",
        "output_type": "stream",
        "text": [
         "loss: (0.07323174178600311,)  [72/80]\n"
        ]
       },
       {
        "name": "stdout",
        "output_type": "stream",
        "text": [
         "loss: (0.07229214906692505,)  [80/80]\n",
         "\n",
         "Testing\n",
         "\n"
        ]
       },
       {
        "name": "stdout",
        "output_type": "stream",
        "text": [
         "mAP50-95:: 0.7386138439178467, mIoU: 0.8716956377029419\n"
        ]
       },
       {
        "name": "stdout",
        "output_type": "stream",
        "text": [
         "\n",
         "Epoch 21\n",
         "-------------------------------\n",
         "Training\n",
         "\n"
        ]
       },
       {
        "name": "stdout",
        "output_type": "stream",
        "text": [
         "loss: (0.04555446654558182,)  [8/80]\n"
        ]
       },
       {
        "name": "stdout",
        "output_type": "stream",
        "text": [
         "loss: (0.14346036314964294,)  [16/80]\n"
        ]
       },
       {
        "name": "stdout",
        "output_type": "stream",
        "text": [
         "loss: (0.029262039810419083,)  [24/80]\n"
        ]
       },
       {
        "name": "stdout",
        "output_type": "stream",
        "text": [
         "loss: (0.11227799206972122,)  [32/80]\n"
        ]
       },
       {
        "name": "stdout",
        "output_type": "stream",
        "text": [
         "loss: (0.2032354176044464,)  [40/80]\n"
        ]
       },
       {
        "name": "stdout",
        "output_type": "stream",
        "text": [
         "loss: (0.08403749763965607,)  [48/80]\n"
        ]
       },
       {
        "name": "stdout",
        "output_type": "stream",
        "text": [
         "loss: (0.07911577075719833,)  [56/80]\n"
        ]
       },
       {
        "name": "stdout",
        "output_type": "stream",
        "text": [
         "loss: (0.0656798854470253,)  [64/80]\n"
        ]
       },
       {
        "name": "stdout",
        "output_type": "stream",
        "text": [
         "loss: (0.06327146291732788,)  [72/80]\n"
        ]
       },
       {
        "name": "stdout",
        "output_type": "stream",
        "text": [
         "loss: (0.06927011907100677,)  [80/80]\n",
         "\n",
         "Testing\n",
         "\n"
        ]
       },
       {
        "name": "stdout",
        "output_type": "stream",
        "text": [
         "mAP50-95:: 0.7089108824729919, mIoU: 0.8467956781387329\n"
        ]
       },
       {
        "name": "stdout",
        "output_type": "stream",
        "text": [
         "\n",
         "Epoch 22\n",
         "-------------------------------\n",
         "Training\n",
         "\n"
        ]
       },
       {
        "name": "stdout",
        "output_type": "stream",
        "text": [
         "loss: (0.04576945677399635,)  [8/80]\n"
        ]
       },
       {
        "name": "stdout",
        "output_type": "stream",
        "text": [
         "loss: (0.1178009882569313,)  [16/80]\n"
        ]
       },
       {
        "name": "stdout",
        "output_type": "stream",
        "text": [
         "loss: (0.040581658482551575,)  [24/80]\n"
        ]
       },
       {
        "name": "stdout",
        "output_type": "stream",
        "text": [
         "loss: (0.10697418451309204,)  [32/80]\n"
        ]
       },
       {
        "name": "stdout",
        "output_type": "stream",
        "text": [
         "loss: (0.17269310355186462,)  [40/80]\n"
        ]
       },
       {
        "name": "stdout",
        "output_type": "stream",
        "text": [
         "loss: (0.0931546688079834,)  [48/80]\n"
        ]
       },
       {
        "name": "stdout",
        "output_type": "stream",
        "text": [
         "loss: (0.08449258655309677,)  [56/80]\n"
        ]
       },
       {
        "name": "stdout",
        "output_type": "stream",
        "text": [
         "loss: (0.05771161988377571,)  [64/80]\n"
        ]
       },
       {
        "name": "stdout",
        "output_type": "stream",
        "text": [
         "loss: (0.1243862584233284,)  [72/80]\n"
        ]
       },
       {
        "name": "stdout",
        "output_type": "stream",
        "text": [
         "loss: (0.06796114891767502,)  [80/80]\n",
         "\n",
         "Testing\n",
         "\n"
        ]
       },
       {
        "name": "stdout",
        "output_type": "stream",
        "text": [
         "mAP50-95:: 0.6076732873916626, mIoU: 0.8023756146430969\n"
        ]
       },
       {
        "name": "stdout",
        "output_type": "stream",
        "text": [
         "\n",
         "Epoch 23\n",
         "-------------------------------\n",
         "Training\n",
         "\n"
        ]
       },
       {
        "name": "stdout",
        "output_type": "stream",
        "text": [
         "loss: (0.05183861404657364,)  [8/80]\n"
        ]
       },
       {
        "name": "stdout",
        "output_type": "stream",
        "text": [
         "loss: (0.10986756533384323,)  [16/80]\n"
        ]
       },
       {
        "name": "stdout",
        "output_type": "stream",
        "text": [
         "loss: (0.05994102731347084,)  [24/80]\n"
        ]
       },
       {
        "name": "stdout",
        "output_type": "stream",
        "text": [
         "loss: (0.10343102365732193,)  [32/80]\n"
        ]
       },
       {
        "name": "stdout",
        "output_type": "stream",
        "text": [
         "loss: (0.2316000610589981,)  [40/80]\n"
        ]
       },
       {
        "name": "stdout",
        "output_type": "stream",
        "text": [
         "loss: (0.08052066713571548,)  [48/80]\n"
        ]
       },
       {
        "name": "stdout",
        "output_type": "stream",
        "text": [
         "loss: (0.07734252512454987,)  [56/80]\n"
        ]
       },
       {
        "name": "stdout",
        "output_type": "stream",
        "text": [
         "loss: (0.1075739711523056,)  [64/80]\n"
        ]
       },
       {
        "name": "stdout",
        "output_type": "stream",
        "text": [
         "loss: (0.10996827483177185,)  [72/80]\n"
        ]
       },
       {
        "name": "stdout",
        "output_type": "stream",
        "text": [
         "loss: (0.11789309978485107,)  [80/80]\n",
         "\n",
         "Testing\n",
         "\n"
        ]
       },
       {
        "name": "stdout",
        "output_type": "stream",
        "text": [
         "mAP50-95:: 0.7257425785064697, mIoU: 0.8354114890098572\n"
        ]
       },
       {
        "name": "stdout",
        "output_type": "stream",
        "text": [
         "\n",
         "Epoch 24\n",
         "-------------------------------\n",
         "Training\n",
         "\n"
        ]
       },
       {
        "name": "stdout",
        "output_type": "stream",
        "text": [
         "loss: (0.07082588225603104,)  [8/80]\n"
        ]
       },
       {
        "name": "stdout",
        "output_type": "stream",
        "text": [
         "loss: (0.12440749257802963,)  [16/80]\n"
        ]
       },
       {
        "name": "stdout",
        "output_type": "stream",
        "text": [
         "loss: (0.05573779717087746,)  [24/80]\n"
        ]
       },
       {
        "name": "stdout",
        "output_type": "stream",
        "text": [
         "loss: (0.10652615129947662,)  [32/80]\n"
        ]
       },
       {
        "name": "stdout",
        "output_type": "stream",
        "text": [
         "loss: (0.19445131719112396,)  [40/80]\n"
        ]
       },
       {
        "name": "stdout",
        "output_type": "stream",
        "text": [
         "loss: (0.05268247798085213,)  [48/80]\n"
        ]
       },
       {
        "name": "stdout",
        "output_type": "stream",
        "text": [
         "loss: (0.07120053470134735,)  [56/80]\n"
        ]
       },
       {
        "name": "stdout",
        "output_type": "stream",
        "text": [
         "loss: (0.15122763812541962,)  [64/80]\n"
        ]
       },
       {
        "name": "stdout",
        "output_type": "stream",
        "text": [
         "loss: (0.08916544914245605,)  [72/80]\n"
        ]
       },
       {
        "name": "stdout",
        "output_type": "stream",
        "text": [
         "loss: (0.17809616029262543,)  [80/80]\n",
         "\n",
         "Testing\n",
         "\n"
        ]
       },
       {
        "name": "stdout",
        "output_type": "stream",
        "text": [
         "mAP50-95:: 0.6509901285171509, mIoU: 0.8121364116668701\n"
        ]
       },
       {
        "name": "stdout",
        "output_type": "stream",
        "text": [
         "\n",
         "Epoch 25\n",
         "-------------------------------\n",
         "Training\n",
         "\n"
        ]
       },
       {
        "name": "stdout",
        "output_type": "stream",
        "text": [
         "loss: (0.12218999117612839,)  [8/80]\n"
        ]
       },
       {
        "name": "stdout",
        "output_type": "stream",
        "text": [
         "loss: (0.10736268758773804,)  [16/80]\n"
        ]
       },
       {
        "name": "stdout",
        "output_type": "stream",
        "text": [
         "loss: (0.06876465678215027,)  [24/80]\n"
        ]
       },
       {
        "name": "stdout",
        "output_type": "stream",
        "text": [
         "loss: (0.15978482365608215,)  [32/80]\n"
        ]
       },
       {
        "name": "stdout",
        "output_type": "stream",
        "text": [
         "loss: (0.20342829823493958,)  [40/80]\n"
        ]
       },
       {
        "name": "stdout",
        "output_type": "stream",
        "text": [
         "loss: (0.04637911543250084,)  [48/80]\n"
        ]
       },
       {
        "name": "stdout",
        "output_type": "stream",
        "text": [
         "loss: (0.03563433513045311,)  [56/80]\n"
        ]
       },
       {
        "name": "stdout",
        "output_type": "stream",
        "text": [
         "loss: (0.07906895875930786,)  [64/80]\n"
        ]
       },
       {
        "name": "stdout",
        "output_type": "stream",
        "text": [
         "loss: (0.062418173998594284,)  [72/80]\n"
        ]
       },
       {
        "name": "stdout",
        "output_type": "stream",
        "text": [
         "loss: (0.14830659329891205,)  [80/80]\n",
         "\n",
         "Testing\n",
         "\n"
        ]
       },
       {
        "name": "stdout",
        "output_type": "stream",
        "text": [
         "mAP50-95:: 0.6881188154220581, mIoU: 0.8189465403556824\n"
        ]
       },
       {
        "name": "stdout",
        "output_type": "stream",
        "text": [
         "\n",
         "Epoch 26\n",
         "-------------------------------\n",
         "Training\n",
         "\n"
        ]
       },
       {
        "name": "stdout",
        "output_type": "stream",
        "text": [
         "loss: (0.08527489006519318,)  [8/80]\n"
        ]
       },
       {
        "name": "stdout",
        "output_type": "stream",
        "text": [
         "loss: (0.14650532603263855,)  [16/80]\n"
        ]
       },
       {
        "name": "stdout",
        "output_type": "stream",
        "text": [
         "loss: (0.14028292894363403,)  [24/80]\n"
        ]
       },
       {
        "name": "stdout",
        "output_type": "stream",
        "text": [
         "loss: (0.1347111016511917,)  [32/80]\n"
        ]
       },
       {
        "name": "stdout",
        "output_type": "stream",
        "text": [
         "loss: (0.16825507581233978,)  [40/80]\n"
        ]
       },
       {
        "name": "stdout",
        "output_type": "stream",
        "text": [
         "loss: (0.03266628459095955,)  [48/80]\n"
        ]
       },
       {
        "name": "stdout",
        "output_type": "stream",
        "text": [
         "loss: (0.041142962872982025,)  [56/80]\n"
        ]
       },
       {
        "name": "stdout",
        "output_type": "stream",
        "text": [
         "loss: (0.07491325587034225,)  [64/80]\n"
        ]
       },
       {
        "name": "stdout",
        "output_type": "stream",
        "text": [
         "loss: (0.07331046462059021,)  [72/80]\n"
        ]
       },
       {
        "name": "stdout",
        "output_type": "stream",
        "text": [
         "loss: (0.10700960457324982,)  [80/80]\n",
         "\n",
         "Testing\n",
         "\n"
        ]
       },
       {
        "name": "stdout",
        "output_type": "stream",
        "text": [
         "mAP50-95:: 0.6881188154220581, mIoU: 0.8379800319671631\n"
        ]
       },
       {
        "name": "stdout",
        "output_type": "stream",
        "text": [
         "\n",
         "Epoch 27\n",
         "-------------------------------\n",
         "Training\n",
         "\n"
        ]
       },
       {
        "name": "stdout",
        "output_type": "stream",
        "text": [
         "loss: (0.06931415945291519,)  [8/80]\n"
        ]
       },
       {
        "name": "stdout",
        "output_type": "stream",
        "text": [
         "loss: (0.10582764446735382,)  [16/80]\n"
        ]
       },
       {
        "name": "stdout",
        "output_type": "stream",
        "text": [
         "loss: (0.04260093346238136,)  [24/80]\n"
        ]
       },
       {
        "name": "stdout",
        "output_type": "stream",
        "text": [
         "loss: (0.11976414918899536,)  [32/80]\n"
        ]
       },
       {
        "name": "stdout",
        "output_type": "stream",
        "text": [
         "loss: (0.1625089943408966,)  [40/80]\n"
        ]
       },
       {
        "name": "stdout",
        "output_type": "stream",
        "text": [
         "loss: (0.04964851215481758,)  [48/80]\n"
        ]
       },
       {
        "name": "stdout",
        "output_type": "stream",
        "text": [
         "loss: (0.07389040291309357,)  [56/80]\n"
        ]
       },
       {
        "name": "stdout",
        "output_type": "stream",
        "text": [
         "loss: (0.08430764824151993,)  [64/80]\n"
        ]
       },
       {
        "name": "stdout",
        "output_type": "stream",
        "text": [
         "loss: (0.07580436021089554,)  [72/80]\n"
        ]
       },
       {
        "name": "stdout",
        "output_type": "stream",
        "text": [
         "loss: (0.1101379543542862,)  [80/80]\n",
         "\n",
         "Testing\n",
         "\n"
        ]
       },
       {
        "name": "stdout",
        "output_type": "stream",
        "text": [
         "mAP50-95:: 0.6504950523376465, mIoU: 0.805936336517334\n"
        ]
       },
       {
        "name": "stdout",
        "output_type": "stream",
        "text": [
         "\n",
         "Epoch 28\n",
         "-------------------------------\n",
         "Training\n",
         "\n"
        ]
       },
       {
        "name": "stdout",
        "output_type": "stream",
        "text": [
         "loss: (0.06475061923265457,)  [8/80]\n"
        ]
       },
       {
        "name": "stdout",
        "output_type": "stream",
        "text": [
         "loss: (0.11744681000709534,)  [16/80]\n"
        ]
       },
       {
        "name": "stdout",
        "output_type": "stream",
        "text": [
         "loss: (0.036545343697071075,)  [24/80]\n"
        ]
       },
       {
        "name": "stdout",
        "output_type": "stream",
        "text": [
         "loss: (0.11946872621774673,)  [32/80]\n"
        ]
       },
       {
        "name": "stdout",
        "output_type": "stream",
        "text": [
         "loss: (0.22642336785793304,)  [40/80]\n"
        ]
       },
       {
        "name": "stdout",
        "output_type": "stream",
        "text": [
         "loss: (0.04803960770368576,)  [48/80]\n"
        ]
       },
       {
        "name": "stdout",
        "output_type": "stream",
        "text": [
         "loss: (0.06405247002840042,)  [56/80]\n"
        ]
       },
       {
        "name": "stdout",
        "output_type": "stream",
        "text": [
         "loss: (0.07710767537355423,)  [64/80]\n"
        ]
       },
       {
        "name": "stdout",
        "output_type": "stream",
        "text": [
         "loss: (0.08702073246240616,)  [72/80]\n"
        ]
       },
       {
        "name": "stdout",
        "output_type": "stream",
        "text": [
         "loss: (0.12100579589605331,)  [80/80]\n",
         "\n",
         "Testing\n",
         "\n"
        ]
       },
       {
        "name": "stdout",
        "output_type": "stream",
        "text": [
         "mAP50-95:: 0.7252475023269653, mIoU: 0.8462284803390503\n"
        ]
       },
       {
        "name": "stdout",
        "output_type": "stream",
        "text": [
         "\n",
         "Epoch 29\n",
         "-------------------------------\n",
         "Training\n",
         "\n"
        ]
       },
       {
        "name": "stdout",
        "output_type": "stream",
        "text": [
         "loss: (0.05530654266476631,)  [8/80]\n"
        ]
       },
       {
        "name": "stdout",
        "output_type": "stream",
        "text": [
         "loss: (0.1260722279548645,)  [16/80]\n"
        ]
       },
       {
        "name": "stdout",
        "output_type": "stream",
        "text": [
         "loss: (0.03711092099547386,)  [24/80]\n"
        ]
       },
       {
        "name": "stdout",
        "output_type": "stream",
        "text": [
         "loss: (0.09020043909549713,)  [32/80]\n"
        ]
       },
       {
        "name": "stdout",
        "output_type": "stream",
        "text": [
         "loss: (0.2022576481103897,)  [40/80]\n"
        ]
       },
       {
        "name": "stdout",
        "output_type": "stream",
        "text": [
         "loss: (0.04975862056016922,)  [48/80]\n"
        ]
       },
       {
        "name": "stdout",
        "output_type": "stream",
        "text": [
         "loss: (0.06229260936379433,)  [56/80]\n"
        ]
       },
       {
        "name": "stdout",
        "output_type": "stream",
        "text": [
         "loss: (0.06405007839202881,)  [64/80]\n"
        ]
       },
       {
        "name": "stdout",
        "output_type": "stream",
        "text": [
         "loss: (0.06378918141126633,)  [72/80]\n"
        ]
       },
       {
        "name": "stdout",
        "output_type": "stream",
        "text": [
         "loss: (0.11618734151124954,)  [80/80]\n",
         "\n",
         "Testing\n",
         "\n"
        ]
       },
       {
        "name": "stdout",
        "output_type": "stream",
        "text": [
         "mAP50-95:: 0.7252475023269653, mIoU: 0.8567731380462646\n"
        ]
       },
       {
        "name": "stdout",
        "output_type": "stream",
        "text": [
         "\n",
         "Epoch 30\n",
         "-------------------------------\n",
         "Training\n",
         "\n"
        ]
       },
       {
        "name": "stdout",
        "output_type": "stream",
        "text": [
         "loss: (0.07557763904333115,)  [8/80]\n"
        ]
       },
       {
        "name": "stdout",
        "output_type": "stream",
        "text": [
         "loss: (0.18544350564479828,)  [16/80]\n"
        ]
       },
       {
        "name": "stdout",
        "output_type": "stream",
        "text": [
         "loss: (0.0479762889444828,)  [24/80]\n"
        ]
       },
       {
        "name": "stdout",
        "output_type": "stream",
        "text": [
         "loss: (0.1176522821187973,)  [32/80]\n"
        ]
       },
       {
        "name": "stdout",
        "output_type": "stream",
        "text": [
         "loss: (0.22096097469329834,)  [40/80]\n"
        ]
       },
       {
        "name": "stdout",
        "output_type": "stream",
        "text": [
         "loss: (0.04627720266580582,)  [48/80]\n"
        ]
       },
       {
        "name": "stdout",
        "output_type": "stream",
        "text": [
         "loss: (0.061119019985198975,)  [56/80]\n"
        ]
       },
       {
        "name": "stdout",
        "output_type": "stream",
        "text": [
         "loss: (0.04779976233839989,)  [64/80]\n"
        ]
       },
       {
        "name": "stdout",
        "output_type": "stream",
        "text": [
         "loss: (0.06532616168260574,)  [72/80]\n"
        ]
       },
       {
        "name": "stdout",
        "output_type": "stream",
        "text": [
         "loss: (0.07462941110134125,)  [80/80]\n",
         "\n",
         "Testing\n",
         "\n"
        ]
       },
       {
        "name": "stdout",
        "output_type": "stream",
        "text": [
         "mAP50-95:: 0.8633663654327393, mIoU: 0.9065629243850708\n"
        ]
       }
      ]
     }
    },
    "83759374637f4865b5696d65d11e0145": {
     "model_module": "@jupyter-widgets/base",
     "model_module_version": "1.2.0",
     "model_name": "LayoutModel",
     "state": {
      "_model_module": "@jupyter-widgets/base",
      "_model_module_version": "1.2.0",
      "_model_name": "LayoutModel",
      "_view_count": null,
      "_view_module": "@jupyter-widgets/base",
      "_view_module_version": "1.2.0",
      "_view_name": "LayoutView",
      "align_content": null,
      "align_items": null,
      "align_self": null,
      "border": null,
      "bottom": null,
      "display": null,
      "flex": null,
      "flex_flow": null,
      "grid_area": null,
      "grid_auto_columns": null,
      "grid_auto_flow": null,
      "grid_auto_rows": null,
      "grid_column": null,
      "grid_gap": null,
      "grid_row": null,
      "grid_template_areas": null,
      "grid_template_columns": null,
      "grid_template_rows": null,
      "height": "512px",
      "justify_content": null,
      "justify_items": null,
      "left": null,
      "margin": null,
      "max_height": null,
      "max_width": null,
      "min_height": null,
      "min_width": null,
      "object_fit": null,
      "object_position": null,
      "order": null,
      "overflow": "auto",
      "overflow_x": null,
      "overflow_y": null,
      "padding": null,
      "right": null,
      "top": null,
      "visibility": null,
      "width": null
     }
    },
    "e725df1cfb614e258558bdd930b69365": {
     "model_module": "@jupyter-widgets/base",
     "model_module_version": "1.2.0",
     "model_name": "LayoutModel",
     "state": {
      "_model_module": "@jupyter-widgets/base",
      "_model_module_version": "1.2.0",
      "_model_name": "LayoutModel",
      "_view_count": null,
      "_view_module": "@jupyter-widgets/base",
      "_view_module_version": "1.2.0",
      "_view_name": "LayoutView",
      "align_content": null,
      "align_items": null,
      "align_self": null,
      "border": null,
      "bottom": null,
      "display": null,
      "flex": null,
      "flex_flow": null,
      "grid_area": null,
      "grid_auto_columns": null,
      "grid_auto_flow": null,
      "grid_auto_rows": null,
      "grid_column": null,
      "grid_gap": null,
      "grid_row": null,
      "grid_template_areas": null,
      "grid_template_columns": null,
      "grid_template_rows": null,
      "height": null,
      "justify_content": "space-between",
      "justify_items": null,
      "left": null,
      "margin": null,
      "max_height": null,
      "max_width": null,
      "min_height": null,
      "min_width": null,
      "object_fit": null,
      "object_position": null,
      "order": null,
      "overflow": null,
      "overflow_x": null,
      "overflow_y": null,
      "padding": null,
      "right": null,
      "top": null,
      "visibility": null,
      "width": null
     }
    },
    "ecb00a53c18348f0a18440d698b5920e": {
     "model_module": "@jupyter-widgets/controls",
     "model_module_version": "1.5.0",
     "model_name": "HBoxModel",
     "state": {
      "_dom_classes": [],
      "_model_module": "@jupyter-widgets/controls",
      "_model_module_version": "1.5.0",
      "_model_name": "HBoxModel",
      "_view_count": null,
      "_view_module": "@jupyter-widgets/controls",
      "_view_module_version": "1.5.0",
      "_view_name": "HBoxView",
      "box_style": "",
      "children": [
       "IPY_MODEL_813a65da5e1d4fa78ba8197267e38e92",
       "IPY_MODEL_ecdb2ef46713484abba24e52d12434c6"
      ],
      "layout": "IPY_MODEL_e725df1cfb614e258558bdd930b69365"
     }
    },
    "ecdb2ef46713484abba24e52d12434c6": {
     "model_module": "@jupyter-widgets/output",
     "model_module_version": "1.0.0",
     "model_name": "OutputModel",
     "state": {
      "_dom_classes": [],
      "_model_module": "@jupyter-widgets/output",
      "_model_module_version": "1.0.0",
      "_model_name": "OutputModel",
      "_view_count": null,
      "_view_module": "@jupyter-widgets/output",
      "_view_module_version": "1.0.0",
      "_view_name": "OutputView",
      "layout": "IPY_MODEL_7c6bcbd220714bc5ad439217a6de0641",
      "msg_id": "",
      "outputs": [
       {
        "data": {
         "image/png": "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\n",
         "text/plain": "<Figure size 700x500 with 1 Axes>"
        },
        "metadata": {},
        "output_type": "display_data"
       }
      ]
     }
    }
   }
  }
 },
 "nbformat": 4,
 "nbformat_minor": 0
}
